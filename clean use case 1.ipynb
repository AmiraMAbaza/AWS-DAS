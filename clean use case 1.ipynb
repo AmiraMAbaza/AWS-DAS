{
  "nbformat": 4,
  "nbformat_minor": 0,
  "metadata": {
    "colab": {
      "name": "Untitled3.ipynb",
      "provenance": [],
      "collapsed_sections": [],
      "authorship_tag": "ABX9TyOmKFLyHvEIHTITDRaM0Ai2",
      "include_colab_link": true
    },
    "kernelspec": {
      "name": "python3",
      "display_name": "Python 3"
    },
    "language_info": {
      "name": "python"
    }
  },
  "cells": [
    {
      "cell_type": "markdown",
      "metadata": {
        "id": "view-in-github",
        "colab_type": "text"
      },
      "source": [
        "<a href=\"https://colab.research.google.com/github/AmiraMAbaza/AWS-DAS/blob/main/clean%20use%20case%201.ipynb\" target=\"_parent\"><img src=\"https://colab.research.google.com/assets/colab-badge.svg\" alt=\"Open In Colab\"/></a>"
      ]
    },
    {
      "cell_type": "code",
      "source": [
        "pip install dedupe\n",
        "#\"\"\"https://pypi.org/project/dedupe/\"\"\""
      ],
      "metadata": {
        "colab": {
          "base_uri": "https://localhost:8080/"
        },
        "id": "_keiCnhCvmaM",
        "outputId": "6580e01f-e307-49e5-8ce3-8ad0dfc95b56"
      },
      "execution_count": 7,
      "outputs": [
        {
          "output_type": "stream",
          "name": "stdout",
          "text": [
            "Collecting dedupe\n",
            "  Downloading dedupe-2.0.13.tar.gz (70 kB)\n",
            "\u001b[?25l\r\u001b[K     |████▊                           | 10 kB 17.0 MB/s eta 0:00:01\r\u001b[K     |█████████▍                      | 20 kB 23.9 MB/s eta 0:00:01\r\u001b[K     |██████████████                  | 30 kB 26.0 MB/s eta 0:00:01\r\u001b[K     |██████████████████▊             | 40 kB 28.3 MB/s eta 0:00:01\r\u001b[K     |███████████████████████▍        | 51 kB 20.1 MB/s eta 0:00:01\r\u001b[K     |████████████████████████████    | 61 kB 22.7 MB/s eta 0:00:01\r\u001b[K     |████████████████████████████████| 70 kB 6.2 MB/s \n",
            "\u001b[?25h  Installing build dependencies ... \u001b[?25l\u001b[?25hdone\n",
            "  Getting requirements to build wheel ... \u001b[?25l\u001b[?25hdone\n",
            "    Preparing wheel metadata ... \u001b[?25l\u001b[?25hdone\n",
            "Collecting categorical-distance>=1.9\n",
            "  Downloading categorical_distance-1.9-py3-none-any.whl (3.3 kB)\n",
            "Collecting dedupe-variable-datetime\n",
            "  Downloading dedupe_variable_datetime-0.1.5-py3-none-any.whl (4.8 kB)\n",
            "Collecting BTrees>=4.1.4\n",
            "  Downloading BTrees-4.10.0-cp37-cp37m-manylinux_2_5_x86_64.manylinux1_x86_64.manylinux_2_12_x86_64.manylinux2010_x86_64.whl (3.6 MB)\n",
            "\u001b[K     |████████████████████████████████| 3.6 MB 43.9 MB/s \n",
            "\u001b[?25hCollecting Levenshtein-search==1.4.5\n",
            "  Downloading Levenshtein_search-1.4.5-cp37-cp37m-manylinux_2_5_x86_64.manylinux1_x86_64.whl (71 kB)\n",
            "\u001b[K     |████████████████████████████████| 71 kB 7.7 MB/s \n",
            "\u001b[?25hCollecting doublemetaphone\n",
            "  Downloading DoubleMetaphone-1.1-cp37-cp37m-manylinux_2_5_x86_64.manylinux1_x86_64.manylinux_2_12_x86_64.manylinux2010_x86_64.whl (150 kB)\n",
            "\u001b[K     |████████████████████████████████| 150 kB 53.1 MB/s \n",
            "\u001b[?25hCollecting highered>=0.2.0\n",
            "  Downloading highered-0.2.1-py2.py3-none-any.whl (3.3 kB)\n",
            "Collecting rlr>=2.4.3\n",
            "  Downloading rlr-2.4.6-py2.py3-none-any.whl (6.0 kB)\n",
            "Collecting haversine>=0.4.1\n",
            "  Downloading haversine-2.5.1-py2.py3-none-any.whl (6.1 kB)\n",
            "Requirement already satisfied: typing-extensions in /usr/local/lib/python3.7/dist-packages (from dedupe) (3.10.0.2)\n",
            "Requirement already satisfied: numpy>=1.13 in /usr/local/lib/python3.7/dist-packages (from dedupe) (1.21.5)\n",
            "Collecting affinegap>=1.3\n",
            "  Downloading affinegap-1.12-cp37-cp37m-manylinux_2_5_x86_64.manylinux1_x86_64.manylinux_2_12_x86_64.manylinux2010_x86_64.whl (55 kB)\n",
            "\u001b[K     |████████████████████████████████| 55 kB 3.6 MB/s \n",
            "\u001b[?25hCollecting zope.index\n",
            "  Downloading zope.index-5.2.0-cp37-cp37m-manylinux_2_5_x86_64.manylinux1_x86_64.manylinux_2_12_x86_64.manylinux2010_x86_64.whl (105 kB)\n",
            "\u001b[K     |████████████████████████████████| 105 kB 49.3 MB/s \n",
            "\u001b[?25hCollecting fastcluster\n",
            "  Downloading fastcluster-1.2.6-cp37-cp37m-manylinux_2_5_x86_64.manylinux1_x86_64.manylinux_2_17_x86_64.manylinux2014_x86_64.whl (194 kB)\n",
            "\u001b[K     |████████████████████████████████| 194 kB 55.1 MB/s \n",
            "\u001b[?25hCollecting simplecosine>=1.2\n",
            "  Downloading simplecosine-1.2-py2.py3-none-any.whl (3.2 kB)\n",
            "Collecting dedupe-hcluster\n",
            "  Downloading dedupe_hcluster-0.3.9-cp37-cp37m-manylinux_2_5_x86_64.manylinux1_x86_64.manylinux_2_12_x86_64.manylinux2010_x86_64.whl (583 kB)\n",
            "\u001b[K     |████████████████████████████████| 583 kB 52.1 MB/s \n",
            "\u001b[?25hCollecting persistent>=4.1.0\n",
            "  Downloading persistent-4.9.0-cp37-cp37m-manylinux_2_5_x86_64.manylinux1_x86_64.manylinux_2_12_x86_64.manylinux2010_x86_64.whl (253 kB)\n",
            "\u001b[K     |████████████████████████████████| 253 kB 59.8 MB/s \n",
            "\u001b[?25hCollecting zope.interface>=5.0.0\n",
            "  Downloading zope.interface-5.4.0-cp37-cp37m-manylinux2010_x86_64.whl (251 kB)\n",
            "\u001b[K     |████████████████████████████████| 251 kB 51.7 MB/s \n",
            "\u001b[?25hCollecting pyhacrf-datamade>=0.2.0\n",
            "  Downloading pyhacrf_datamade-0.2.6-cp37-cp37m-manylinux_2_17_x86_64.manylinux2014_x86_64.whl (972 kB)\n",
            "\u001b[K     |████████████████████████████████| 972 kB 44.7 MB/s \n",
            "\u001b[?25hRequirement already satisfied: cffi in /usr/local/lib/python3.7/dist-packages (from persistent>=4.1.0->BTrees>=4.1.4->dedupe) (1.15.0)\n",
            "Collecting PyLBFGS>=0.1.3\n",
            "  Downloading PyLBFGS-0.2.0.14-cp37-cp37m-manylinux_2_5_x86_64.manylinux1_x86_64.manylinux_2_12_x86_64.manylinux2010_x86_64.whl (239 kB)\n",
            "\u001b[K     |████████████████████████████████| 239 kB 31.2 MB/s \n",
            "\u001b[?25hRequirement already satisfied: setuptools in /usr/local/lib/python3.7/dist-packages (from zope.interface>=5.0.0->BTrees>=4.1.4->dedupe) (57.4.0)\n",
            "Requirement already satisfied: pycparser in /usr/local/lib/python3.7/dist-packages (from cffi->persistent>=4.1.0->BTrees>=4.1.4->dedupe) (2.21)\n",
            "Requirement already satisfied: future in /usr/local/lib/python3.7/dist-packages (from dedupe-variable-datetime->dedupe) (0.16.0)\n",
            "Collecting datetime-distance\n",
            "  Downloading datetime_distance-0.1.3-py3-none-any.whl (4.1 kB)\n",
            "Requirement already satisfied: python-dateutil>=2.6.0 in /usr/local/lib/python3.7/dist-packages (from datetime-distance->dedupe-variable-datetime->dedupe) (2.8.2)\n",
            "Requirement already satisfied: six>=1.5 in /usr/local/lib/python3.7/dist-packages (from python-dateutil>=2.6.0->datetime-distance->dedupe-variable-datetime->dedupe) (1.15.0)\n",
            "Building wheels for collected packages: dedupe\n",
            "  Building wheel for dedupe (PEP 517) ... \u001b[?25l\u001b[?25hdone\n",
            "  Created wheel for dedupe: filename=dedupe-2.0.13-cp37-cp37m-linux_x86_64.whl size=96747 sha256=00e95dd7ebb7e8b5e0e00ef3a01fda1d3290cef943c101556976fd65c7f0faaa\n",
            "  Stored in directory: /root/.cache/pip/wheels/f5/04/56/35c317183ef6c7ad07f0e74273da5ed443fb680482dc4e0130\n",
            "Successfully built dedupe\n",
            "Installing collected packages: zope.interface, PyLBFGS, persistent, pyhacrf-datamade, datetime-distance, BTrees, zope.index, simplecosine, rlr, Levenshtein-search, highered, haversine, fastcluster, doublemetaphone, dedupe-variable-datetime, dedupe-hcluster, categorical-distance, affinegap, dedupe\n",
            "Successfully installed BTrees-4.10.0 Levenshtein-search-1.4.5 PyLBFGS-0.2.0.14 affinegap-1.12 categorical-distance-1.9 datetime-distance-0.1.3 dedupe-2.0.13 dedupe-hcluster-0.3.9 dedupe-variable-datetime-0.1.5 doublemetaphone-1.1 fastcluster-1.2.6 haversine-2.5.1 highered-0.2.1 persistent-4.9.0 pyhacrf-datamade-0.2.6 rlr-2.4.6 simplecosine-1.2 zope.index-5.2.0 zope.interface-5.4.0\n"
          ]
        }
      ]
    },
    {
      "cell_type": "code",
      "source": [
        "pip install Fuzzy #https://pypi.org/project/Fuzzy/"
      ],
      "metadata": {
        "colab": {
          "base_uri": "https://localhost:8080/"
        },
        "id": "k0_pdqbwv-JL",
        "outputId": "69985d25-fca0-4720-8d74-39c90717bf7f"
      },
      "execution_count": 8,
      "outputs": [
        {
          "output_type": "stream",
          "name": "stdout",
          "text": [
            "Collecting Fuzzy\n",
            "  Downloading Fuzzy-1.2.2.tar.gz (14 kB)\n",
            "Building wheels for collected packages: Fuzzy\n",
            "  Building wheel for Fuzzy (setup.py) ... \u001b[?25l\u001b[?25hdone\n",
            "  Created wheel for Fuzzy: filename=Fuzzy-1.2.2-cp37-cp37m-linux_x86_64.whl size=161716 sha256=7a76c1d1e43d3f05a6a424d63fdb0988a6124dc6317d24564d5eea8badaa5600\n",
            "  Stored in directory: /root/.cache/pip/wheels/c8/52/8a/bb2d05fbf343752a8546682cb5b2d775cc0d1f27f6c43f95dd\n",
            "Successfully built Fuzzy\n",
            "Installing collected packages: Fuzzy\n",
            "Successfully installed Fuzzy-1.2.2\n"
          ]
        }
      ]
    },
    {
      "cell_type": "code",
      "source": [
        "pip install python-Levenshtein #python modules are required to use dupandas: pandas, fuzzy, python-levenshtein. https://github.com/shivam5992/dupandas"
      ],
      "metadata": {
        "colab": {
          "base_uri": "https://localhost:8080/"
        },
        "id": "R5VcSvEZ-WJc",
        "outputId": "83528f21-9db8-4b14-9584-c88aef8fcb54"
      },
      "execution_count": 9,
      "outputs": [
        {
          "output_type": "stream",
          "name": "stdout",
          "text": [
            "Collecting python-Levenshtein\n",
            "  Downloading python-Levenshtein-0.12.2.tar.gz (50 kB)\n",
            "\u001b[?25l\r\u001b[K     |██████▌                         | 10 kB 16.4 MB/s eta 0:00:01\r\u001b[K     |█████████████                   | 20 kB 21.7 MB/s eta 0:00:01\r\u001b[K     |███████████████████▌            | 30 kB 26.6 MB/s eta 0:00:01\r\u001b[K     |██████████████████████████      | 40 kB 26.7 MB/s eta 0:00:01\r\u001b[K     |████████████████████████████████| 50 kB 5.1 MB/s \n",
            "\u001b[?25hRequirement already satisfied: setuptools in /usr/local/lib/python3.7/dist-packages (from python-Levenshtein) (57.4.0)\n",
            "Building wheels for collected packages: python-Levenshtein\n",
            "  Building wheel for python-Levenshtein (setup.py) ... \u001b[?25l\u001b[?25hdone\n",
            "  Created wheel for python-Levenshtein: filename=python_Levenshtein-0.12.2-cp37-cp37m-linux_x86_64.whl size=149863 sha256=03d7a0c99247bbb285c06d4862d451903c090028a3bd94039964e5cd48561edf\n",
            "  Stored in directory: /root/.cache/pip/wheels/05/5f/ca/7c4367734892581bb5ff896f15027a932c551080b2abd3e00d\n",
            "Successfully built python-Levenshtein\n",
            "Installing collected packages: python-Levenshtein\n",
            "Successfully installed python-Levenshtein-0.12.2\n"
          ]
        }
      ]
    },
    {
      "cell_type": "code",
      "execution_count": 10,
      "metadata": {
        "id": "5Fgcu27Tpo-a"
      },
      "outputs": [],
      "source": [
        "import pandas as pd\n",
        "import numpy as np\n",
        "import dedupe \n",
        "import io\n",
        "import os\n",
        "import csv\n",
        "import json\n",
        "import re\n",
        "import logging\n",
        "import optparse\n",
        "\n"
      ]
    },
    {
      "cell_type": "code",
      "source": [
        "pip install csvdedupe #csv dedupe https://github.com/dedupeio/csvdedupe#csvlink-usage"
      ],
      "metadata": {
        "colab": {
          "base_uri": "https://localhost:8080/"
        },
        "id": "saSExVI9QuPw",
        "outputId": "5ea4bfe2-aa42-4c3c-ef0c-577a697b4948"
      },
      "execution_count": 13,
      "outputs": [
        {
          "output_type": "stream",
          "name": "stdout",
          "text": [
            "Requirement already satisfied: csvdedupe in /usr/local/lib/python3.7/dist-packages (0.1.20)\n",
            "Requirement already satisfied: future>=0.14 in /usr/local/lib/python3.7/dist-packages (from csvdedupe) (0.16.0)\n",
            "Requirement already satisfied: dedupe<2,>=1.6 in /usr/local/lib/python3.7/dist-packages (from csvdedupe) (1.10.0)\n",
            "Requirement already satisfied: BTrees>=4.1.4 in /usr/local/lib/python3.7/dist-packages (from dedupe<2,>=1.6->csvdedupe) (4.10.0)\n",
            "Requirement already satisfied: affinegap>=1.3 in /usr/local/lib/python3.7/dist-packages (from dedupe<2,>=1.6->csvdedupe) (1.12)\n",
            "Requirement already satisfied: highered>=0.2.0 in /usr/local/lib/python3.7/dist-packages (from dedupe<2,>=1.6->csvdedupe) (0.2.1)\n",
            "Requirement already satisfied: categorical-distance>=1.9 in /usr/local/lib/python3.7/dist-packages (from dedupe<2,>=1.6->csvdedupe) (1.9)\n",
            "Requirement already satisfied: rlr>=2.4.3 in /usr/local/lib/python3.7/dist-packages (from dedupe<2,>=1.6->csvdedupe) (2.4.6)\n",
            "Requirement already satisfied: numpy>=1.13 in /usr/local/lib/python3.7/dist-packages (from dedupe<2,>=1.6->csvdedupe) (1.21.5)\n",
            "Requirement already satisfied: zope.index in /usr/local/lib/python3.7/dist-packages (from dedupe<2,>=1.6->csvdedupe) (5.2.0)\n",
            "Requirement already satisfied: dedupe-hcluster in /usr/local/lib/python3.7/dist-packages (from dedupe<2,>=1.6->csvdedupe) (0.3.9)\n",
            "Requirement already satisfied: simplecosine>=1.2 in /usr/local/lib/python3.7/dist-packages (from dedupe<2,>=1.6->csvdedupe) (1.2)\n",
            "Requirement already satisfied: haversine>=0.4.1 in /usr/local/lib/python3.7/dist-packages (from dedupe<2,>=1.6->csvdedupe) (2.5.1)\n",
            "Requirement already satisfied: dedupe-variable-datetime in /usr/local/lib/python3.7/dist-packages (from dedupe<2,>=1.6->csvdedupe) (0.1.5)\n",
            "Requirement already satisfied: fastcluster in /usr/local/lib/python3.7/dist-packages (from dedupe<2,>=1.6->csvdedupe) (1.2.6)\n",
            "Requirement already satisfied: doublemetaphone in /usr/local/lib/python3.7/dist-packages (from dedupe<2,>=1.6->csvdedupe) (1.1)\n",
            "Requirement already satisfied: Levenshtein-search in /usr/local/lib/python3.7/dist-packages (from dedupe<2,>=1.6->csvdedupe) (1.4.5)\n",
            "Requirement already satisfied: persistent>=4.1.0 in /usr/local/lib/python3.7/dist-packages (from BTrees>=4.1.4->dedupe<2,>=1.6->csvdedupe) (4.9.0)\n",
            "Requirement already satisfied: zope.interface>=5.0.0 in /usr/local/lib/python3.7/dist-packages (from BTrees>=4.1.4->dedupe<2,>=1.6->csvdedupe) (5.4.0)\n",
            "Requirement already satisfied: pyhacrf-datamade>=0.2.0 in /usr/local/lib/python3.7/dist-packages (from highered>=0.2.0->dedupe<2,>=1.6->csvdedupe) (0.2.6)\n",
            "Requirement already satisfied: cffi in /usr/local/lib/python3.7/dist-packages (from persistent>=4.1.0->BTrees>=4.1.4->dedupe<2,>=1.6->csvdedupe) (1.15.0)\n",
            "Requirement already satisfied: PyLBFGS>=0.1.3 in /usr/local/lib/python3.7/dist-packages (from pyhacrf-datamade>=0.2.0->highered>=0.2.0->dedupe<2,>=1.6->csvdedupe) (0.2.0.14)\n",
            "Requirement already satisfied: setuptools in /usr/local/lib/python3.7/dist-packages (from zope.interface>=5.0.0->BTrees>=4.1.4->dedupe<2,>=1.6->csvdedupe) (57.4.0)\n",
            "Requirement already satisfied: pycparser in /usr/local/lib/python3.7/dist-packages (from cffi->persistent>=4.1.0->BTrees>=4.1.4->dedupe<2,>=1.6->csvdedupe) (2.21)\n",
            "Requirement already satisfied: datetime-distance in /usr/local/lib/python3.7/dist-packages (from dedupe-variable-datetime->dedupe<2,>=1.6->csvdedupe) (0.1.3)\n",
            "Requirement already satisfied: python-dateutil>=2.6.0 in /usr/local/lib/python3.7/dist-packages (from datetime-distance->dedupe-variable-datetime->dedupe<2,>=1.6->csvdedupe) (2.8.2)\n",
            "Requirement already satisfied: six>=1.5 in /usr/local/lib/python3.7/dist-packages (from python-dateutil>=2.6.0->datetime-distance->dedupe-variable-datetime->dedupe<2,>=1.6->csvdedupe) (1.15.0)\n"
          ]
        }
      ]
    },
    {
      "cell_type": "code",
      "source": [
        "#reading and understanding the neat data\n",
        "Clean_data=pd.read_csv('/content/dataset1.csv',encoding='iso-8859-1')\n",
        "Clean_data.head()"
      ],
      "metadata": {
        "colab": {
          "base_uri": "https://localhost:8080/",
          "height": 337
        },
        "id": "xmjgrn9dVdvo",
        "outputId": "b891e714-5558-4654-b46a-523a14311b05"
      },
      "execution_count": 15,
      "outputs": [
        {
          "output_type": "execute_result",
          "data": {
            "text/plain": [
              "                             id  \\\n",
              "0  conf/vldb/RusinkiewiczKTWM95   \n",
              "1  journals/sigmod/EisenbergM02   \n",
              "2          conf/vldb/AmmannJR95   \n",
              "3         journals/sigmod/Liu02   \n",
              "4      journals/sigmod/Hammer02   \n",
              "\n",
              "                                               title  \\\n",
              "0  Towards a Cooperative Transaction Model - The ...   \n",
              "1                    SQL/XML is Making Good Progress   \n",
              "2  Using Formal Methods to Reason about Semantics...   \n",
              "3                                     Editor's Notes   \n",
              "4  Report on the ACM Fourth International Worksho...   \n",
              "\n",
              "                                            authors          venue  year  \n",
              "0  M Rusinkiewicz, W Klas, T Tesch, J Wäsch, P Muth           VLDB  1995  \n",
              "1                             A Eisenberg, J Melton  SIGMOD Record  2002  \n",
              "2                        P Ammann, S Jajodia, I Ray           VLDB  1995  \n",
              "3                                             L Liu  SIGMOD Record  2002  \n",
              "4                                               NaN            NaN  2002  "
            ],
            "text/html": [
              "\n",
              "  <div id=\"df-5d54c223-f9eb-4f0b-8279-1b3214aaaadc\">\n",
              "    <div class=\"colab-df-container\">\n",
              "      <div>\n",
              "<style scoped>\n",
              "    .dataframe tbody tr th:only-of-type {\n",
              "        vertical-align: middle;\n",
              "    }\n",
              "\n",
              "    .dataframe tbody tr th {\n",
              "        vertical-align: top;\n",
              "    }\n",
              "\n",
              "    .dataframe thead th {\n",
              "        text-align: right;\n",
              "    }\n",
              "</style>\n",
              "<table border=\"1\" class=\"dataframe\">\n",
              "  <thead>\n",
              "    <tr style=\"text-align: right;\">\n",
              "      <th></th>\n",
              "      <th>id</th>\n",
              "      <th>title</th>\n",
              "      <th>authors</th>\n",
              "      <th>venue</th>\n",
              "      <th>year</th>\n",
              "    </tr>\n",
              "  </thead>\n",
              "  <tbody>\n",
              "    <tr>\n",
              "      <th>0</th>\n",
              "      <td>conf/vldb/RusinkiewiczKTWM95</td>\n",
              "      <td>Towards a Cooperative Transaction Model - The ...</td>\n",
              "      <td>M Rusinkiewicz, W Klas, T Tesch, J Wäsch, P Muth</td>\n",
              "      <td>VLDB</td>\n",
              "      <td>1995</td>\n",
              "    </tr>\n",
              "    <tr>\n",
              "      <th>1</th>\n",
              "      <td>journals/sigmod/EisenbergM02</td>\n",
              "      <td>SQL/XML is Making Good Progress</td>\n",
              "      <td>A Eisenberg, J Melton</td>\n",
              "      <td>SIGMOD Record</td>\n",
              "      <td>2002</td>\n",
              "    </tr>\n",
              "    <tr>\n",
              "      <th>2</th>\n",
              "      <td>conf/vldb/AmmannJR95</td>\n",
              "      <td>Using Formal Methods to Reason about Semantics...</td>\n",
              "      <td>P Ammann, S Jajodia, I Ray</td>\n",
              "      <td>VLDB</td>\n",
              "      <td>1995</td>\n",
              "    </tr>\n",
              "    <tr>\n",
              "      <th>3</th>\n",
              "      <td>journals/sigmod/Liu02</td>\n",
              "      <td>Editor's Notes</td>\n",
              "      <td>L Liu</td>\n",
              "      <td>SIGMOD Record</td>\n",
              "      <td>2002</td>\n",
              "    </tr>\n",
              "    <tr>\n",
              "      <th>4</th>\n",
              "      <td>journals/sigmod/Hammer02</td>\n",
              "      <td>Report on the ACM Fourth International Worksho...</td>\n",
              "      <td>NaN</td>\n",
              "      <td>NaN</td>\n",
              "      <td>2002</td>\n",
              "    </tr>\n",
              "  </tbody>\n",
              "</table>\n",
              "</div>\n",
              "      <button class=\"colab-df-convert\" onclick=\"convertToInteractive('df-5d54c223-f9eb-4f0b-8279-1b3214aaaadc')\"\n",
              "              title=\"Convert this dataframe to an interactive table.\"\n",
              "              style=\"display:none;\">\n",
              "        \n",
              "  <svg xmlns=\"http://www.w3.org/2000/svg\" height=\"24px\"viewBox=\"0 0 24 24\"\n",
              "       width=\"24px\">\n",
              "    <path d=\"M0 0h24v24H0V0z\" fill=\"none\"/>\n",
              "    <path d=\"M18.56 5.44l.94 2.06.94-2.06 2.06-.94-2.06-.94-.94-2.06-.94 2.06-2.06.94zm-11 1L8.5 8.5l.94-2.06 2.06-.94-2.06-.94L8.5 2.5l-.94 2.06-2.06.94zm10 10l.94 2.06.94-2.06 2.06-.94-2.06-.94-.94-2.06-.94 2.06-2.06.94z\"/><path d=\"M17.41 7.96l-1.37-1.37c-.4-.4-.92-.59-1.43-.59-.52 0-1.04.2-1.43.59L10.3 9.45l-7.72 7.72c-.78.78-.78 2.05 0 2.83L4 21.41c.39.39.9.59 1.41.59.51 0 1.02-.2 1.41-.59l7.78-7.78 2.81-2.81c.8-.78.8-2.07 0-2.86zM5.41 20L4 18.59l7.72-7.72 1.47 1.35L5.41 20z\"/>\n",
              "  </svg>\n",
              "      </button>\n",
              "      \n",
              "  <style>\n",
              "    .colab-df-container {\n",
              "      display:flex;\n",
              "      flex-wrap:wrap;\n",
              "      gap: 12px;\n",
              "    }\n",
              "\n",
              "    .colab-df-convert {\n",
              "      background-color: #E8F0FE;\n",
              "      border: none;\n",
              "      border-radius: 50%;\n",
              "      cursor: pointer;\n",
              "      display: none;\n",
              "      fill: #1967D2;\n",
              "      height: 32px;\n",
              "      padding: 0 0 0 0;\n",
              "      width: 32px;\n",
              "    }\n",
              "\n",
              "    .colab-df-convert:hover {\n",
              "      background-color: #E2EBFA;\n",
              "      box-shadow: 0px 1px 2px rgba(60, 64, 67, 0.3), 0px 1px 3px 1px rgba(60, 64, 67, 0.15);\n",
              "      fill: #174EA6;\n",
              "    }\n",
              "\n",
              "    [theme=dark] .colab-df-convert {\n",
              "      background-color: #3B4455;\n",
              "      fill: #D2E3FC;\n",
              "    }\n",
              "\n",
              "    [theme=dark] .colab-df-convert:hover {\n",
              "      background-color: #434B5C;\n",
              "      box-shadow: 0px 1px 3px 1px rgba(0, 0, 0, 0.15);\n",
              "      filter: drop-shadow(0px 1px 2px rgba(0, 0, 0, 0.3));\n",
              "      fill: #FFFFFF;\n",
              "    }\n",
              "  </style>\n",
              "\n",
              "      <script>\n",
              "        const buttonEl =\n",
              "          document.querySelector('#df-5d54c223-f9eb-4f0b-8279-1b3214aaaadc button.colab-df-convert');\n",
              "        buttonEl.style.display =\n",
              "          google.colab.kernel.accessAllowed ? 'block' : 'none';\n",
              "\n",
              "        async function convertToInteractive(key) {\n",
              "          const element = document.querySelector('#df-5d54c223-f9eb-4f0b-8279-1b3214aaaadc');\n",
              "          const dataTable =\n",
              "            await google.colab.kernel.invokeFunction('convertToInteractive',\n",
              "                                                     [key], {});\n",
              "          if (!dataTable) return;\n",
              "\n",
              "          const docLinkHtml = 'Like what you see? Visit the ' +\n",
              "            '<a target=\"_blank\" href=https://colab.research.google.com/notebooks/data_table.ipynb>data table notebook</a>'\n",
              "            + ' to learn more about interactive tables.';\n",
              "          element.innerHTML = '';\n",
              "          dataTable['output_type'] = 'display_data';\n",
              "          await google.colab.output.renderOutput(dataTable, element);\n",
              "          const docLink = document.createElement('div');\n",
              "          docLink.innerHTML = docLinkHtml;\n",
              "          element.appendChild(docLink);\n",
              "        }\n",
              "      </script>\n",
              "    </div>\n",
              "  </div>\n",
              "  "
            ]
          },
          "metadata": {},
          "execution_count": 15
        }
      ]
    },
    {
      "cell_type": "markdown",
      "source": [
        "when tried to read the **messy data file** as **csv** , had found it's not following the default read_csv format of data fields and encoding and separator.\n",
        "so I'd to dig into the file itself and found that t's tab separated not comma separated, and the encoding not utf-8 or utf-16 and it's iso-8859-1\n",
        "and the **codecs** library offered **decoding** for the file data before being read by pandas ***read_csv*** function."
      ],
      "metadata": {
        "id": "aONJV5EHDnOA"
      }
    },
    {
      "cell_type": "code",
      "source": [
        "import codecs\n",
        "\n",
        "doc = codecs.open('/content/dataset2.csv','rU','iso-8859-1') #open for reading with \"universal\" type set\n",
        "\n",
        "Messy_Data = pd.read_csv(doc, sep='\\t')\n",
        "Messy_Data.head()\n",
        "Messy_Data.info()"
      ],
      "metadata": {
        "colab": {
          "base_uri": "https://localhost:8080/"
        },
        "id": "i2RlnEztJP7q",
        "outputId": "ad4f0fec-9543-4c6c-b4f0-74c78bfd454a"
      },
      "execution_count": 30,
      "outputs": [
        {
          "output_type": "stream",
          "name": "stdout",
          "text": [
            "<class 'pandas.core.frame.DataFrame'>\n",
            "RangeIndex: 64263 entries, 0 to 64262\n",
            "Data columns (total 5 columns):\n",
            " #   Column   Non-Null Count  Dtype  \n",
            "---  ------   --------------  -----  \n",
            " 0   id       64263 non-null  object \n",
            " 1   title    64263 non-null  object \n",
            " 2   authors  64262 non-null  object \n",
            " 3   venue    49266 non-null  object \n",
            " 4   year     29473 non-null  float64\n",
            "dtypes: float64(1), object(4)\n",
            "memory usage: 2.5+ MB\n"
          ]
        }
      ]
    }
  ]
}